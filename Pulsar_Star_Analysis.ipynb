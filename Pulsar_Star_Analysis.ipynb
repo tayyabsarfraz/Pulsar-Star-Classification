{
 "cells": [
  {
   "cell_type": "markdown",
   "id": "7bd2914b",
   "metadata": {},
   "source": [
    "<h1 align=\"center\">Analysis of Pulsar Star Dataset Using Machine Learning Techniques</h1>\n",
    "\n",
    "In this project, I build a Support Vector Machines classifier to classify a Pulsar star. I have used the Predicting a Pulsar Star dataset for this project. I have downloaded this dataset from the Kaggle website.\n",
    "\n",
    "#### Table of Contents\n",
    "\n",
    "- The problem statement\n",
    "- Dataset description\n",
    "- Import tools\n",
    "- Import dataset\n",
    "- Exploratory data analysis\n",
    "- Declare feature vector and target variable\n",
    "- Split data into separate training and test set\n",
    "- Feature scaling\n",
    "- SVM with default hyperparameters\n",
    "- SVM with linear kernel\n",
    "- SVM with polynomial kernel\n",
    "- SVM with sigmoid kernel\n",
    "- Confusion matrix\n",
    "- Classification metrices\n",
    "- ROC - AUC\n",
    "- Stratified k-fold Cross Validation with shuffle split\n",
    "- Hyperparameter optimization using GridSearch CV\n",
    "- Results and conclusion"
   ]
  },
  {
   "cell_type": "markdown",
   "id": "b33bb187",
   "metadata": {},
   "source": [
    "\n",
    "#  The problem statement\n",
    "In this project, I try to classify a pulsar star as legitimate or spurious pulsar star. The legitimate pulsar stars form a minority positive class and spurious pulsar stars form the majority negative class. I implement Support Vector Machines (SVMs) classification algorithm with Python and Scikit-Learn to solve this problem.\n",
    "\n",
    "To answer the question, I build a SVM classifier to classify the `pulsar star` as legitimate or spurious. I have used the Predicting a <a href=\"https://www.kaggle.com/datasets/chandrashekhargt/pulsar-star\">Pulsar_Star_Dataset</a>  downloaded from the Kaggle website for this project.\n",
    "\n",
    "#  Dataset description\n",
    "\n",
    "Pulsars are a rare type of Neutron star that produce radio emission detectable here on Earth. They are of considerable scientific interest as probes of space-time, the inter-stellar medium, and states of matter. Classification algorithms in particular are being adopted, which treat the data sets as binary classification problems. Here the legitimate pulsar examples form minority positive class and spurious examples form the majority negative class.\n",
    "\n",
    "The data set shared here contains 16,259 spurious examples caused by RFI/noise, and 1,639 real pulsar examples. Each row lists the variables first, and the class label is the final entry. The class labels used are 0 (negative) and 1 (positive).\n",
    "\n",
    "**Attribute Information:** \n",
    "\n",
    "Each candidate is described by 8 continuous variables, and a single class variable. The first four are simple statistics obtained from the integrated pulse profile. The remaining four variables are similarly obtained from the DM-SNR curve . These are summarised below:\n",
    "\n",
    " - Mean of the integrated profile.\n",
    "\n",
    " - Standard deviation of the integrated profile.\n",
    "\n",
    " - Excess kurtosis of the integrated profile.\n",
    "\n",
    " - Skewness of the integrated profile.\n",
    "\n",
    " - Mean of the DM-SNR curve.\n",
    "\n",
    " - Standard deviation of the DM-SNR curve.\n",
    "\n",
    " - Excess kurtosis of the DM-SNR curve.\n",
    "\n",
    " - Skewness of the DM-SNR curve.\n",
    "\n",
    " - Class"
   ]
  },
  {
   "cell_type": "markdown",
   "id": "829b5d9a",
   "metadata": {},
   "source": [
    "#  Import tools"
   ]
  },
  {
   "cell_type": "code",
   "execution_count": 1,
   "id": "39a8b39e",
   "metadata": {},
   "outputs": [],
   "source": [
    "# libraries\n",
    "import numpy as np\n",
    "import pandas as pd\n",
    "import matplotlib.pyplot as plt\n",
    "import seaborn as sns\n",
    "import sklearn as sk\n",
    "import warnings\n",
    "warnings.filterwarnings(\"ignore\")"
   ]
  },
  {
   "cell_type": "markdown",
   "id": "e685adc7",
   "metadata": {},
   "source": [
    "# Import dataset"
   ]
  },
  {
   "cell_type": "code",
   "execution_count": 2,
   "id": "ce0dc693",
   "metadata": {},
   "outputs": [
    {
     "data": {
      "text/plain": [
       "'C:\\\\Users\\\\admin\\\\Desktop\\\\Machine Learning\\\\Support Vector Machine'"
      ]
     },
     "execution_count": 2,
     "metadata": {},
     "output_type": "execute_result"
    }
   ],
   "source": [
    "# Dataset\n",
    "import os\n",
    "os.getcwd()"
   ]
  },
  {
   "cell_type": "code",
   "execution_count": 22,
   "id": "9c34b4c5",
   "metadata": {},
   "outputs": [
    {
     "data": {
      "text/html": [
       "<div>\n",
       "<style scoped>\n",
       "    .dataframe tbody tr th:only-of-type {\n",
       "        vertical-align: middle;\n",
       "    }\n",
       "\n",
       "    .dataframe tbody tr th {\n",
       "        vertical-align: top;\n",
       "    }\n",
       "\n",
       "    .dataframe thead th {\n",
       "        text-align: right;\n",
       "    }\n",
       "</style>\n",
       "<table border=\"1\" class=\"dataframe\">\n",
       "  <thead>\n",
       "    <tr style=\"text-align: right;\">\n",
       "      <th></th>\n",
       "      <th>Mean of the integrated profile</th>\n",
       "      <th>Standard deviation of the integrated profile</th>\n",
       "      <th>Excess kurtosis of the integrated profile</th>\n",
       "      <th>Skewness of the integrated profile</th>\n",
       "      <th>Mean of the DM-SNR curve</th>\n",
       "      <th>Standard deviation of the DM-SNR curve</th>\n",
       "      <th>Excess kurtosis of the DM-SNR curve</th>\n",
       "      <th>Skewness of the DM-SNR curve</th>\n",
       "      <th>target_class</th>\n",
       "    </tr>\n",
       "  </thead>\n",
       "  <tbody>\n",
       "    <tr>\n",
       "      <th>0</th>\n",
       "      <td>121.156250</td>\n",
       "      <td>48.372971</td>\n",
       "      <td>0.375485</td>\n",
       "      <td>-0.013165</td>\n",
       "      <td>3.168896</td>\n",
       "      <td>18.399367</td>\n",
       "      <td>7.449874</td>\n",
       "      <td>65.159298</td>\n",
       "      <td>0.0</td>\n",
       "    </tr>\n",
       "    <tr>\n",
       "      <th>1</th>\n",
       "      <td>76.968750</td>\n",
       "      <td>36.175557</td>\n",
       "      <td>0.712898</td>\n",
       "      <td>3.388719</td>\n",
       "      <td>2.399666</td>\n",
       "      <td>17.570997</td>\n",
       "      <td>9.414652</td>\n",
       "      <td>102.722975</td>\n",
       "      <td>0.0</td>\n",
       "    </tr>\n",
       "    <tr>\n",
       "      <th>2</th>\n",
       "      <td>130.585938</td>\n",
       "      <td>53.229534</td>\n",
       "      <td>0.133408</td>\n",
       "      <td>-0.297242</td>\n",
       "      <td>2.743311</td>\n",
       "      <td>22.362553</td>\n",
       "      <td>8.508364</td>\n",
       "      <td>74.031324</td>\n",
       "      <td>0.0</td>\n",
       "    </tr>\n",
       "    <tr>\n",
       "      <th>3</th>\n",
       "      <td>156.398438</td>\n",
       "      <td>48.865942</td>\n",
       "      <td>-0.215989</td>\n",
       "      <td>-0.171294</td>\n",
       "      <td>17.471572</td>\n",
       "      <td>NaN</td>\n",
       "      <td>2.958066</td>\n",
       "      <td>7.197842</td>\n",
       "      <td>0.0</td>\n",
       "    </tr>\n",
       "    <tr>\n",
       "      <th>4</th>\n",
       "      <td>84.804688</td>\n",
       "      <td>36.117659</td>\n",
       "      <td>0.825013</td>\n",
       "      <td>3.274125</td>\n",
       "      <td>2.790134</td>\n",
       "      <td>20.618009</td>\n",
       "      <td>8.405008</td>\n",
       "      <td>76.291128</td>\n",
       "      <td>0.0</td>\n",
       "    </tr>\n",
       "  </tbody>\n",
       "</table>\n",
       "</div>"
      ],
      "text/plain": [
       "    Mean of the integrated profile  \\\n",
       "0                       121.156250   \n",
       "1                        76.968750   \n",
       "2                       130.585938   \n",
       "3                       156.398438   \n",
       "4                        84.804688   \n",
       "\n",
       "    Standard deviation of the integrated profile  \\\n",
       "0                                      48.372971   \n",
       "1                                      36.175557   \n",
       "2                                      53.229534   \n",
       "3                                      48.865942   \n",
       "4                                      36.117659   \n",
       "\n",
       "    Excess kurtosis of the integrated profile  \\\n",
       "0                                    0.375485   \n",
       "1                                    0.712898   \n",
       "2                                    0.133408   \n",
       "3                                   -0.215989   \n",
       "4                                    0.825013   \n",
       "\n",
       "    Skewness of the integrated profile   Mean of the DM-SNR curve  \\\n",
       "0                            -0.013165                   3.168896   \n",
       "1                             3.388719                   2.399666   \n",
       "2                            -0.297242                   2.743311   \n",
       "3                            -0.171294                  17.471572   \n",
       "4                             3.274125                   2.790134   \n",
       "\n",
       "    Standard deviation of the DM-SNR curve  \\\n",
       "0                                18.399367   \n",
       "1                                17.570997   \n",
       "2                                22.362553   \n",
       "3                                      NaN   \n",
       "4                                20.618009   \n",
       "\n",
       "    Excess kurtosis of the DM-SNR curve   Skewness of the DM-SNR curve  \\\n",
       "0                              7.449874                      65.159298   \n",
       "1                              9.414652                     102.722975   \n",
       "2                              8.508364                      74.031324   \n",
       "3                              2.958066                       7.197842   \n",
       "4                              8.405008                      76.291128   \n",
       "\n",
       "   target_class  \n",
       "0           0.0  \n",
       "1           0.0  \n",
       "2           0.0  \n",
       "3           0.0  \n",
       "4           0.0  "
      ]
     },
     "execution_count": 22,
     "metadata": {},
     "output_type": "execute_result"
    }
   ],
   "source": [
    "df=pd.read_csv(r\"C:\\Users\\admin\\Desktop\\Machine Learning\\Datasets\\pulsar_star.csv\")\n",
    "df.head()"
   ]
  },
  {
   "cell_type": "markdown",
   "id": "b892bfda",
   "metadata": {},
   "source": [
    "#  Exploratory data analysis"
   ]
  },
  {
   "cell_type": "code",
   "execution_count": 23,
   "id": "e2060988",
   "metadata": {},
   "outputs": [
    {
     "data": {
      "text/plain": [
       "(17898, 9)"
      ]
     },
     "execution_count": 23,
     "metadata": {},
     "output_type": "execute_result"
    }
   ],
   "source": [
    "df.shape"
   ]
  },
  {
   "cell_type": "code",
   "execution_count": 24,
   "id": "34e75286",
   "metadata": {},
   "outputs": [
    {
     "data": {
      "text/html": [
       "<div>\n",
       "<style scoped>\n",
       "    .dataframe tbody tr th:only-of-type {\n",
       "        vertical-align: middle;\n",
       "    }\n",
       "\n",
       "    .dataframe tbody tr th {\n",
       "        vertical-align: top;\n",
       "    }\n",
       "\n",
       "    .dataframe thead th {\n",
       "        text-align: right;\n",
       "    }\n",
       "</style>\n",
       "<table border=\"1\" class=\"dataframe\">\n",
       "  <thead>\n",
       "    <tr style=\"text-align: right;\">\n",
       "      <th></th>\n",
       "      <th>Mean of the integrated profile</th>\n",
       "      <th>Standard deviation of the integrated profile</th>\n",
       "      <th>Excess kurtosis of the integrated profile</th>\n",
       "      <th>Skewness of the integrated profile</th>\n",
       "      <th>Mean of the DM-SNR curve</th>\n",
       "      <th>Standard deviation of the DM-SNR curve</th>\n",
       "      <th>Excess kurtosis of the DM-SNR curve</th>\n",
       "      <th>Skewness of the DM-SNR curve</th>\n",
       "      <th>target_class</th>\n",
       "    </tr>\n",
       "  </thead>\n",
       "  <tbody>\n",
       "    <tr>\n",
       "      <th>count</th>\n",
       "      <td>17898.000000</td>\n",
       "      <td>17898.000000</td>\n",
       "      <td>15396.000000</td>\n",
       "      <td>17898.000000</td>\n",
       "      <td>17898.000000</td>\n",
       "      <td>16196.000000</td>\n",
       "      <td>17898.000000</td>\n",
       "      <td>17029.000000</td>\n",
       "      <td>12528.000000</td>\n",
       "    </tr>\n",
       "    <tr>\n",
       "      <th>mean</th>\n",
       "      <td>111.079968</td>\n",
       "      <td>46.549532</td>\n",
       "      <td>0.480081</td>\n",
       "      <td>1.770279</td>\n",
       "      <td>12.614400</td>\n",
       "      <td>26.373476</td>\n",
       "      <td>8.303556</td>\n",
       "      <td>104.726073</td>\n",
       "      <td>0.092034</td>\n",
       "    </tr>\n",
       "    <tr>\n",
       "      <th>std</th>\n",
       "      <td>25.652935</td>\n",
       "      <td>6.843189</td>\n",
       "      <td>1.068333</td>\n",
       "      <td>6.167913</td>\n",
       "      <td>29.472897</td>\n",
       "      <td>19.542821</td>\n",
       "      <td>4.506092</td>\n",
       "      <td>106.612375</td>\n",
       "      <td>0.289085</td>\n",
       "    </tr>\n",
       "    <tr>\n",
       "      <th>min</th>\n",
       "      <td>5.812500</td>\n",
       "      <td>24.772042</td>\n",
       "      <td>-1.876011</td>\n",
       "      <td>-1.791886</td>\n",
       "      <td>0.213211</td>\n",
       "      <td>7.370432</td>\n",
       "      <td>-3.139270</td>\n",
       "      <td>-1.976976</td>\n",
       "      <td>0.000000</td>\n",
       "    </tr>\n",
       "    <tr>\n",
       "      <th>25%</th>\n",
       "      <td>100.929688</td>\n",
       "      <td>42.376018</td>\n",
       "      <td>0.026670</td>\n",
       "      <td>-0.188572</td>\n",
       "      <td>1.923077</td>\n",
       "      <td>14.443905</td>\n",
       "      <td>5.781506</td>\n",
       "      <td>34.776492</td>\n",
       "      <td>0.000000</td>\n",
       "    </tr>\n",
       "    <tr>\n",
       "      <th>50%</th>\n",
       "      <td>115.078125</td>\n",
       "      <td>46.947479</td>\n",
       "      <td>0.224414</td>\n",
       "      <td>0.198710</td>\n",
       "      <td>2.801839</td>\n",
       "      <td>18.457026</td>\n",
       "      <td>8.433515</td>\n",
       "      <td>82.768138</td>\n",
       "      <td>0.000000</td>\n",
       "    </tr>\n",
       "    <tr>\n",
       "      <th>75%</th>\n",
       "      <td>127.085938</td>\n",
       "      <td>51.023202</td>\n",
       "      <td>0.473488</td>\n",
       "      <td>0.927783</td>\n",
       "      <td>5.464256</td>\n",
       "      <td>28.444832</td>\n",
       "      <td>10.702959</td>\n",
       "      <td>139.163008</td>\n",
       "      <td>0.000000</td>\n",
       "    </tr>\n",
       "    <tr>\n",
       "      <th>max</th>\n",
       "      <td>192.617188</td>\n",
       "      <td>98.778911</td>\n",
       "      <td>8.069522</td>\n",
       "      <td>68.101622</td>\n",
       "      <td>223.392141</td>\n",
       "      <td>110.642211</td>\n",
       "      <td>34.539844</td>\n",
       "      <td>1191.000837</td>\n",
       "      <td>1.000000</td>\n",
       "    </tr>\n",
       "  </tbody>\n",
       "</table>\n",
       "</div>"
      ],
      "text/plain": [
       "        Mean of the integrated profile  \\\n",
       "count                     17898.000000   \n",
       "mean                        111.079968   \n",
       "std                          25.652935   \n",
       "min                           5.812500   \n",
       "25%                         100.929688   \n",
       "50%                         115.078125   \n",
       "75%                         127.085938   \n",
       "max                         192.617188   \n",
       "\n",
       "        Standard deviation of the integrated profile  \\\n",
       "count                                   17898.000000   \n",
       "mean                                       46.549532   \n",
       "std                                         6.843189   \n",
       "min                                        24.772042   \n",
       "25%                                        42.376018   \n",
       "50%                                        46.947479   \n",
       "75%                                        51.023202   \n",
       "max                                        98.778911   \n",
       "\n",
       "        Excess kurtosis of the integrated profile  \\\n",
       "count                                15396.000000   \n",
       "mean                                     0.480081   \n",
       "std                                      1.068333   \n",
       "min                                     -1.876011   \n",
       "25%                                      0.026670   \n",
       "50%                                      0.224414   \n",
       "75%                                      0.473488   \n",
       "max                                      8.069522   \n",
       "\n",
       "        Skewness of the integrated profile   Mean of the DM-SNR curve  \\\n",
       "count                         17898.000000               17898.000000   \n",
       "mean                              1.770279                  12.614400   \n",
       "std                               6.167913                  29.472897   \n",
       "min                              -1.791886                   0.213211   \n",
       "25%                              -0.188572                   1.923077   \n",
       "50%                               0.198710                   2.801839   \n",
       "75%                               0.927783                   5.464256   \n",
       "max                              68.101622                 223.392141   \n",
       "\n",
       "        Standard deviation of the DM-SNR curve  \\\n",
       "count                             16196.000000   \n",
       "mean                                 26.373476   \n",
       "std                                  19.542821   \n",
       "min                                   7.370432   \n",
       "25%                                  14.443905   \n",
       "50%                                  18.457026   \n",
       "75%                                  28.444832   \n",
       "max                                 110.642211   \n",
       "\n",
       "        Excess kurtosis of the DM-SNR curve   Skewness of the DM-SNR curve  \\\n",
       "count                          17898.000000                   17029.000000   \n",
       "mean                               8.303556                     104.726073   \n",
       "std                                4.506092                     106.612375   \n",
       "min                               -3.139270                      -1.976976   \n",
       "25%                                5.781506                      34.776492   \n",
       "50%                                8.433515                      82.768138   \n",
       "75%                               10.702959                     139.163008   \n",
       "max                               34.539844                    1191.000837   \n",
       "\n",
       "       target_class  \n",
       "count  12528.000000  \n",
       "mean       0.092034  \n",
       "std        0.289085  \n",
       "min        0.000000  \n",
       "25%        0.000000  \n",
       "50%        0.000000  \n",
       "75%        0.000000  \n",
       "max        1.000000  "
      ]
     },
     "execution_count": 24,
     "metadata": {},
     "output_type": "execute_result"
    }
   ],
   "source": [
    "df.describe()"
   ]
  },
  {
   "cell_type": "code",
   "execution_count": 25,
   "id": "ee3cc125",
   "metadata": {},
   "outputs": [
    {
     "data": {
      "text/plain": [
       "Index([' Mean of the integrated profile',\n",
       "       ' Standard deviation of the integrated profile',\n",
       "       ' Excess kurtosis of the integrated profile',\n",
       "       ' Skewness of the integrated profile', ' Mean of the DM-SNR curve',\n",
       "       ' Standard deviation of the DM-SNR curve',\n",
       "       ' Excess kurtosis of the DM-SNR curve', ' Skewness of the DM-SNR curve',\n",
       "       'target_class'],\n",
       "      dtype='object')"
      ]
     },
     "execution_count": 25,
     "metadata": {},
     "output_type": "execute_result"
    }
   ],
   "source": [
    "col_names=df.columns\n",
    "col_names"
   ]
  },
  {
   "cell_type": "code",
   "execution_count": 26,
   "id": "c4f35dea",
   "metadata": {},
   "outputs": [],
   "source": [
    "df.columns=df.columns.str.replace(\"_\",\" \")"
   ]
  },
  {
   "cell_type": "code",
   "execution_count": 27,
   "id": "25efcf65",
   "metadata": {},
   "outputs": [],
   "source": [
    "df.columns=df.columns.str.strip()"
   ]
  },
  {
   "cell_type": "code",
   "execution_count": 28,
   "id": "b5699e2f",
   "metadata": {},
   "outputs": [],
   "source": [
    "df.columns=df.columns.str.replace(\" \",\"_\")"
   ]
  },
  {
   "cell_type": "code",
   "execution_count": 29,
   "id": "6c646538",
   "metadata": {},
   "outputs": [
    {
     "data": {
      "text/plain": [
       "Index(['Mean_of_the_integrated_profile',\n",
       "       'Standard_deviation_of_the_integrated_profile',\n",
       "       'Excess_kurtosis_of_the_integrated_profile',\n",
       "       'Skewness_of_the_integrated_profile', 'Mean_of_the_DM-SNR_curve',\n",
       "       'Standard_deviation_of_the_DM-SNR_curve',\n",
       "       'Excess_kurtosis_of_the_DM-SNR_curve', 'Skewness_of_the_DM-SNR_curve',\n",
       "       'target_class'],\n",
       "      dtype='object')"
      ]
     },
     "execution_count": 29,
     "metadata": {},
     "output_type": "execute_result"
    }
   ],
   "source": [
    "df.columns"
   ]
  },
  {
   "cell_type": "code",
   "execution_count": 30,
   "id": "cc6ed85d",
   "metadata": {},
   "outputs": [],
   "source": [
    "df.columns = ['IP_Mean', 'IP_Sd', 'IP_Kurtosis', 'IP_Skewness', \n",
    "              'DM_SNR_Mean', 'DM_SNR_Sd', 'DM_SNR_Kurtosis', 'DM_SNR_Skewness', 'target_class']"
   ]
  },
  {
   "cell_type": "code",
   "execution_count": 32,
   "id": "e6a7dba7",
   "metadata": {},
   "outputs": [
    {
     "data": {
      "image/png": "[encoded data removed]",
      "text/plain": [
       "<Figure size 842.4x595.44 with 1 Axes>"
      ]
     },
     "metadata": {},
     "output_type": "display_data"
    }
   ],
   "source": [
    "df.target_class.value_counts().plot(kind=\"bar\",color=sns.color_palette(palette=\"tab10\"))\n",
    "sns.set_theme(rc={'figure.figsize':(11.7,8.27)})\n",
    "sns.set_style(\"dark\")"
   ]
  },
  {
   "cell_type": "code",
   "execution_count": 33,
   "id": "ca0935f3",
   "metadata": {},
   "outputs": [
    {
     "name": "stdout",
     "output_type": "stream",
     "text": [
      "<class 'pandas.core.frame.DataFrame'>\n",
      "RangeIndex: 17898 entries, 0 to 17897\n",
      "Data columns (total 9 columns):\n",
      " #   Column           Non-Null Count  Dtype  \n",
      "---  ------           --------------  -----  \n",
      " 0   IP_Mean          17898 non-null  float64\n",
      " 1   IP_Sd            17898 non-null  float64\n",
      " 2   IP_Kurtosis      15396 non-null  float64\n",
      " 3   IP_Skewness      17898 non-null  float64\n",
      " 4   DM_SNR_Mean      17898 non-null  float64\n",
      " 5   DM_SNR_Sd        16196 non-null  float64\n",
      " 6   DM_SNR_Kurtosis  17898 non-null  float64\n",
      " 7   DM_SNR_Skewness  17029 non-null  float64\n",
      " 8   target_class     12528 non-null  float64\n",
      "dtypes: float64(9)\n",
      "memory usage: 1.2 MB\n"
     ]
    }
   ],
   "source": [
    "df.info()"
   ]
  },
  {
   "cell_type": "markdown",
   "id": "171b979f",
   "metadata": {},
   "source": [
    "# Handling Null Obsevations Using Statistical Tools"
   ]
  },
  {
   "cell_type": "code",
   "execution_count": 34,
   "id": "d24b3092",
   "metadata": {},
   "outputs": [
    {
     "data": {
      "text/plain": [
       "IP_Mean               0\n",
       "IP_Sd                 0\n",
       "IP_Kurtosis        2502\n",
       "IP_Skewness           0\n",
       "DM_SNR_Mean           0\n",
       "DM_SNR_Sd          1702\n",
       "DM_SNR_Kurtosis       0\n",
       "DM_SNR_Skewness     869\n",
       "target_class       5370\n",
       "dtype: int64"
      ]
     },
     "execution_count": 34,
     "metadata": {},
     "output_type": "execute_result"
    }
   ],
   "source": [
    "df.isnull().sum()"
   ]
  },
  {
   "cell_type": "code",
   "execution_count": 36,
   "id": "e5ededf4",
   "metadata": {},
   "outputs": [],
   "source": [
    "df.IP_Kurtosis.fillna(df.IP_Kurtosis.median(),inplace=True)"
   ]
  },
  {
   "cell_type": "code",
   "execution_count": 37,
   "id": "656131a2",
   "metadata": {},
   "outputs": [],
   "source": [
    "df.DM_SNR_Sd.fillna(df.DM_SNR_Sd.median(),inplace=True)"
   ]
  },
  {
   "cell_type": "code",
   "execution_count": 38,
   "id": "881d45ec",
   "metadata": {},
   "outputs": [],
   "source": [
    "df.DM_SNR_Skewness.fillna(df.DM_SNR_Skewness.median(),inplace=True)"
   ]
  },
  {
   "cell_type": "code",
   "execution_count": 39,
   "id": "f76a5a49",
   "metadata": {},
   "outputs": [],
   "source": [
    "df.target_class.fillna(statistics.mode(df.target_class),inplace=True)"
   ]
  },
  {
   "cell_type": "code",
   "execution_count": 40,
   "id": "0f1f494a",
   "metadata": {},
   "outputs": [],
   "source": [
    "import statistics"
   ]
  },
  {
   "cell_type": "code",
   "execution_count": 41,
   "id": "9ef5d8a9",
   "metadata": {},
   "outputs": [
    {
     "data": {
      "text/plain": [
       "IP_Mean            0\n",
       "IP_Sd              0\n",
       "IP_Kurtosis        0\n",
       "IP_Skewness        0\n",
       "DM_SNR_Mean        0\n",
       "DM_SNR_Sd          0\n",
       "DM_SNR_Kurtosis    0\n",
       "DM_SNR_Skewness    0\n",
       "target_class       0\n",
       "dtype: int64"
      ]
     },
     "execution_count": 41,
     "metadata": {},
     "output_type": "execute_result"
    }
   ],
   "source": [
    "df.isnull().sum()"
   ]
  },
  {
   "cell_type": "code",
   "execution_count": 42,
   "id": "77e050a7",
   "metadata": {},
   "outputs": [],
   "source": [
    "cols=df.select_dtypes(include=np.number).columns.tolist()"
   ]
  },
  {
   "cell_type": "markdown",
   "id": "62e3a9c1",
   "metadata": {},
   "source": [
    "**Summary of numerical variables:**\n",
    "    \n",
    "There are 9 numerical variables in the dataset.\n",
    "\n",
    " - 8 are continuous variables and 1 is discrete variable.\n",
    "\n",
    " - The discrete variable is target_class variable. It is also the target variable.\n",
    "\n",
    " - There are no missing values in the dataset."
   ]
  },
  {
   "cell_type": "markdown",
   "id": "298ef6b9",
   "metadata": {},
   "source": [
    "# Outliers Detection"
   ]
  },
  {
   "cell_type": "code",
   "execution_count": 43,
   "id": "110402d9",
   "metadata": {},
   "outputs": [
    {
     "data": {
      "text/plain": [
       "<Figure size 1728x1440 with 0 Axes>"
      ]
     },
     "execution_count": 43,
     "metadata": {},
     "output_type": "execute_result"
    },
    {
     "data": {
      "text/plain": [
       "<Figure size 1728x1440 with 0 Axes>"
      ]
     },
     "metadata": {},
     "output_type": "display_data"
    }
   ],
   "source": [
    "plt.figure(figsize=(24,20))\n"
   ]
  },
  {
   "cell_type": "code",
   "execution_count": 44,
   "id": "6553c52e",
   "metadata": {},
   "outputs": [],
   "source": [
    "columns=[i for i in cols if \"target_class\" not in i]"
   ]
  },
  {
   "cell_type": "code",
   "execution_count": 46,
   "id": "7ae8cbf5",
   "metadata": {},
   "outputs": [
    {
     "data": {
      "image/png": "[encoded data removed]",
      "text/plain": [
       "<Figure size 1728x1440 with 8 Axes>"
      ]
     },
     "metadata": {},
     "output_type": "display_data"
    }
   ],
   "source": [
    "plt.figure(figsize=(24,20))\n",
    "for i,var in enumerate(columns):\n",
    "    plt.subplot(4,2,1+i)\n",
    "    fig=df.boxplot(column=var)\n",
    "    fig.set_title('')\n",
    "    fig.set_ylabel(var)\n",
    "    sns.set_style(\"dark\")\n",
    "sns.set_theme(rc={'figure.figsize':(11.7,8.27)})"
   ]
  },
  {
   "cell_type": "markdown",
   "id": "a092ab51",
   "metadata": {},
   "source": [
    "**Handle outliers with SVMs**\n",
    "\n",
    "There are 2 variants of SVMs. They are `hard-margin variant of SVM` and `soft-margin variant of SVM`.\n",
    "\n",
    "The hard-margin variant of SVM does not deal with outliers. In this case, we want to find the hyperplane with maximum margin such that every training point is correctly classified with margin at least 1. This technique does not handle outliers well.\n",
    "\n",
    "Another version of SVM is called soft-margin variant of SVM. In this case, we can have a few points incorrectly classified or classified with a margin less than 1. But for every such point, we have to pay a penalty in the form of `C` parameter, which controls the outliers. `Low C` implies we are allowing more outliers and `high C` implies less outliers.\n",
    "\n",
    "The message is that since the dataset contains outliers, so the value of C should be high while training the model."
   ]
  },
  {
   "cell_type": "markdown",
   "id": "c510b81f",
   "metadata": {},
   "source": [
    "# Check the distribution of variables"
   ]
  },
  {
   "cell_type": "code",
   "execution_count": 47,
   "id": "ce12766b",
   "metadata": {},
   "outputs": [
    {
     "data": {
      "image/png": "[encoded data removed]",
      "text/plain": [
       "<Figure size 1728x1440 with 8 Axes>"
      ]
     },
     "metadata": {},
     "output_type": "display_data"
    }
   ],
   "source": [
    "plt.figure(figsize=(24,20))\n",
    "for i,var in enumerate(columns):\n",
    "    plt.subplot(4,2,1+i)\n",
    "    fig=df[var].hist(bins=20)\n",
    "    fig.set_title('')\n",
    "    fig.set_ylabel(var)\n",
    "    fig.set_xlabel(var)\n",
    "    sns.set_style(\"dark\")"
   ]
  },
  {
   "cell_type": "markdown",
   "id": "89db5d13",
   "metadata": {},
   "source": [
    "# Declare feature vector and target variable"
   ]
  },
  {
   "cell_type": "code",
   "execution_count": 48,
   "id": "fb15ca02",
   "metadata": {},
   "outputs": [],
   "source": [
    "X=df.drop(columns=[\"target_class\"],axis=1)\n",
    "y=df[\"target_class\"]"
   ]
  },
  {
   "cell_type": "markdown",
   "id": "6e631f07",
   "metadata": {},
   "source": [
    "#  Split data into separate training and test set"
   ]
  },
  {
   "cell_type": "code",
   "execution_count": 49,
   "id": "190f9b15",
   "metadata": {},
   "outputs": [],
   "source": [
    "from sklearn.model_selection import train_test_split\n",
    "X_train,X_test,y_train,y_test=train_test_split(X,y,test_size=0.2,random_state=0)"
   ]
  },
  {
   "cell_type": "code",
   "execution_count": 50,
   "id": "368b572b",
   "metadata": {},
   "outputs": [
    {
     "data": {
      "text/plain": [
       "((14318, 8), (3580, 8))"
      ]
     },
     "execution_count": 50,
     "metadata": {},
     "output_type": "execute_result"
    }
   ],
   "source": [
    "X_train.shape,X_test.shape"
   ]
  },
  {
   "cell_type": "markdown",
   "id": "429ecc3b",
   "metadata": {},
   "source": [
    "# Feature Scaling"
   ]
  },
  {
   "cell_type": "code",
   "execution_count": 51,
   "id": "d89f8a06",
   "metadata": {},
   "outputs": [],
   "source": [
    "from sklearn.preprocessing import StandardScaler\n",
    "scaler=StandardScaler()\n",
    "cols_train=X_train.columns.to_list()\n",
    "cols_test=X_test.columns.to_list()\n",
    "X_train=pd.DataFrame(scaler.fit_transform(X_train),columns=cols_train)\n",
    "X_test=pd.DataFrame(scaler.transform(X_test),columns=cols_test)"
   ]
  },
  {
   "cell_type": "code",
   "execution_count": 52,
   "id": "e1d784ee",
   "metadata": {},
   "outputs": [
    {
     "data": {
      "text/html": [
       "<div>\n",
       "<style scoped>\n",
       "    .dataframe tbody tr th:only-of-type {\n",
       "        vertical-align: middle;\n",
       "    }\n",
       "\n",
       "    .dataframe tbody tr th {\n",
       "        vertical-align: top;\n",
       "    }\n",
       "\n",
       "    .dataframe thead th {\n",
       "        text-align: right;\n",
       "    }\n",
       "</style>\n",
       "<table border=\"1\" class=\"dataframe\">\n",
       "  <thead>\n",
       "    <tr style=\"text-align: right;\">\n",
       "      <th></th>\n",
       "      <th>IP_Mean</th>\n",
       "      <th>IP_Sd</th>\n",
       "      <th>IP_Kurtosis</th>\n",
       "      <th>IP_Skewness</th>\n",
       "      <th>DM_SNR_Mean</th>\n",
       "      <th>DM_SNR_Sd</th>\n",
       "      <th>DM_SNR_Kurtosis</th>\n",
       "      <th>DM_SNR_Skewness</th>\n",
       "    </tr>\n",
       "  </thead>\n",
       "  <tbody>\n",
       "    <tr>\n",
       "      <th>count</th>\n",
       "      <td>1.431800e+04</td>\n",
       "      <td>1.431800e+04</td>\n",
       "      <td>1.431800e+04</td>\n",
       "      <td>1.431800e+04</td>\n",
       "      <td>1.431800e+04</td>\n",
       "      <td>1.431800e+04</td>\n",
       "      <td>1.431800e+04</td>\n",
       "      <td>1.431800e+04</td>\n",
       "    </tr>\n",
       "    <tr>\n",
       "      <th>mean</th>\n",
       "      <td>2.334896e-16</td>\n",
       "      <td>-4.436550e-16</td>\n",
       "      <td>4.118944e-17</td>\n",
       "      <td>-3.970067e-17</td>\n",
       "      <td>-3.548247e-17</td>\n",
       "      <td>4.168570e-17</td>\n",
       "      <td>-1.875857e-16</td>\n",
       "      <td>7.741631e-17</td>\n",
       "    </tr>\n",
       "    <tr>\n",
       "      <th>std</th>\n",
       "      <td>1.000035e+00</td>\n",
       "      <td>1.000035e+00</td>\n",
       "      <td>1.000035e+00</td>\n",
       "      <td>1.000035e+00</td>\n",
       "      <td>1.000035e+00</td>\n",
       "      <td>1.000035e+00</td>\n",
       "      <td>1.000035e+00</td>\n",
       "      <td>1.000035e+00</td>\n",
       "    </tr>\n",
       "    <tr>\n",
       "      <th>min</th>\n",
       "      <td>-4.098053e+00</td>\n",
       "      <td>-3.172536e+00</td>\n",
       "      <td>-2.345425e+00</td>\n",
       "      <td>-5.753239e-01</td>\n",
       "      <td>-4.194711e-01</td>\n",
       "      <td>-9.724083e-01</td>\n",
       "      <td>-2.542009e+00</td>\n",
       "      <td>-1.012449e+00</td>\n",
       "    </tr>\n",
       "    <tr>\n",
       "      <th>25%</th>\n",
       "      <td>-3.998079e-01</td>\n",
       "      <td>-6.147909e-01</td>\n",
       "      <td>-3.876861e-01</td>\n",
       "      <td>-3.182492e-01</td>\n",
       "      <td>-3.612044e-01</td>\n",
       "      <td>-5.764547e-01</td>\n",
       "      <td>-5.566807e-01</td>\n",
       "      <td>-6.303592e-01</td>\n",
       "    </tr>\n",
       "    <tr>\n",
       "      <th>50%</th>\n",
       "      <td>1.559973e-01</td>\n",
       "      <td>5.839602e-02</td>\n",
       "      <td>-2.197909e-01</td>\n",
       "      <td>-2.551748e-01</td>\n",
       "      <td>-3.312998e-01</td>\n",
       "      <td>-3.791844e-01</td>\n",
       "      <td>2.889867e-02</td>\n",
       "      <td>-2.049900e-01</td>\n",
       "    </tr>\n",
       "    <tr>\n",
       "      <th>75%</th>\n",
       "      <td>6.235154e-01</td>\n",
       "      <td>6.469725e-01</td>\n",
       "      <td>-1.871783e-02</td>\n",
       "      <td>-1.346574e-01</td>\n",
       "      <td>-2.420931e-01</td>\n",
       "      <td>4.606233e-02</td>\n",
       "      <td>5.279422e-01</td>\n",
       "      <td>2.966395e-01</td>\n",
       "    </tr>\n",
       "    <tr>\n",
       "      <th>max</th>\n",
       "      <td>3.175094e+00</td>\n",
       "      <td>7.608885e+00</td>\n",
       "      <td>7.719476e+00</td>\n",
       "      <td>1.081183e+01</td>\n",
       "      <td>7.204393e+00</td>\n",
       "      <td>4.553481e+00</td>\n",
       "      <td>5.810629e+00</td>\n",
       "      <td>1.035435e+01</td>\n",
       "    </tr>\n",
       "  </tbody>\n",
       "</table>\n",
       "</div>"
      ],
      "text/plain": [
       "            IP_Mean         IP_Sd   IP_Kurtosis   IP_Skewness   DM_SNR_Mean  \\\n",
       "count  1.431800e+04  1.431800e+04  1.431800e+04  1.431800e+04  1.431800e+04   \n",
       "mean   2.334896e-16 -4.436550e-16  4.118944e-17 -3.970067e-17 -3.548247e-17   \n",
       "std    1.000035e+00  1.000035e+00  1.000035e+00  1.000035e+00  1.000035e+00   \n",
       "min   -4.098053e+00 -3.172536e+00 -2.345425e+00 -5.753239e-01 -4.194711e-01   \n",
       "25%   -3.998079e-01 -6.147909e-01 -3.876861e-01 -3.182492e-01 -3.612044e-01   \n",
       "50%    1.559973e-01  5.839602e-02 -2.197909e-01 -2.551748e-01 -3.312998e-01   \n",
       "75%    6.235154e-01  6.469725e-01 -1.871783e-02 -1.346574e-01 -2.420931e-01   \n",
       "max    3.175094e+00  7.608885e+00  7.719476e+00  1.081183e+01  7.204393e+00   \n",
       "\n",
       "          DM_SNR_Sd  DM_SNR_Kurtosis  DM_SNR_Skewness  \n",
       "count  1.431800e+04     1.431800e+04     1.431800e+04  \n",
       "mean   4.168570e-17    -1.875857e-16     7.741631e-17  \n",
       "std    1.000035e+00     1.000035e+00     1.000035e+00  \n",
       "min   -9.724083e-01    -2.542009e+00    -1.012449e+00  \n",
       "25%   -5.764547e-01    -5.566807e-01    -6.303592e-01  \n",
       "50%   -3.791844e-01     2.889867e-02    -2.049900e-01  \n",
       "75%    4.606233e-02     5.279422e-01     2.966395e-01  \n",
       "max    4.553481e+00     5.810629e+00     1.035435e+01  "
      ]
     },
     "execution_count": 52,
     "metadata": {},
     "output_type": "execute_result"
    }
   ],
   "source": [
    "X_train.describe()"
   ]
  },
  {
   "cell_type": "markdown",
   "id": "979d428d",
   "metadata": {},
   "source": [
    "#  SVM with default hyperparameters\n",
    "\n",
    "Default hyperparameter means C=`1.0`, kernel=`rbf` and gamma=`auto` among other parameters."
   ]
  },
  {
   "cell_type": "code",
   "execution_count": 53,
   "id": "59f0bc27",
   "metadata": {},
   "outputs": [],
   "source": [
    "from sklearn.svm import SVC\n",
    "from sklearn.metrics import accuracy_score,roc_auc_score,classification_report"
   ]
  },
  {
   "cell_type": "code",
   "execution_count": 54,
   "id": "a4d969d5",
   "metadata": {},
   "outputs": [
    {
     "name": "stdout",
     "output_type": "stream",
     "text": [
      "Model accuracy score with default hyperparameters: 0.9598\n"
     ]
    }
   ],
   "source": [
    "svc=SVC()\n",
    "svc.fit(X_train,y_train)\n",
    "y_hat=svc.predict(X_test)\n",
    "print('Model accuracy score with default hyperparameters: {0:0.4f}'. format(accuracy_score(y_test, y_hat)))"
   ]
  },
  {
   "cell_type": "markdown",
   "id": "44eae9a5",
   "metadata": {},
   "source": [
    "# SVM with rbf kernel and C=100.0\n",
    "\n",
    "We have seen that there are outliers in our dataset. So, we should increase the value of C as higher C means fewer outliers. So, I will run SVM with kernel=rbf and C=100.0."
   ]
  },
  {
   "cell_type": "code",
   "execution_count": 53,
   "id": "274c8daa",
   "metadata": {},
   "outputs": [
    {
     "name": "stdout",
     "output_type": "stream",
     "text": [
      "Model accuracy score with kernal rbf and C=100.0: 0.9573\n"
     ]
    }
   ],
   "source": [
    "svc=SVC(C=100.0)\n",
    "svc.fit(X_train,y_train)\n",
    "y_hat=svc.predict(X_test)\n",
    "print('Model accuracy score with kernal rbf and C=100.0: {0:0.4f}'. format(accuracy_score(y_test, y_hat)))"
   ]
  },
  {
   "cell_type": "markdown",
   "id": "e7b5585c",
   "metadata": {},
   "source": [
    "# SVM with rbf kernel and C=1000.0"
   ]
  },
  {
   "cell_type": "code",
   "execution_count": 54,
   "id": "0c62fb9a",
   "metadata": {},
   "outputs": [
    {
     "name": "stdout",
     "output_type": "stream",
     "text": [
      "Model accuracy score with kernal rbf and C=1000.0: 0.9536\n"
     ]
    }
   ],
   "source": [
    "svc=SVC(C=1000.0)\n",
    "svc.fit(X_train,y_train)\n",
    "y_hat=svc.predict(X_test)\n",
    "print('Model accuracy score with kernal rbf and C=1000.0: {0:0.4f}'. format(accuracy_score(y_test, y_hat)))"
   ]
  },
  {
   "cell_type": "markdown",
   "id": "c506881b",
   "metadata": {},
   "source": [
    "#  SVM with linear kernel"
   ]
  },
  {
   "cell_type": "code",
   "execution_count": 55,
   "id": "840c9d41",
   "metadata": {},
   "outputs": [
    {
     "name": "stdout",
     "output_type": "stream",
     "text": [
      "Model accuracy score with linear kernal and C=1.0: 0.9536312849162011\n",
      "Model accuracy score with linear kernal and C=100.0: 0.9536312849162011\n"
     ]
    }
   ],
   "source": [
    "C=[1.0,100.0]\n",
    "for i in C:\n",
    "    svc=SVC(kernel=\"linear\",C=i)\n",
    "    svc.fit(X_train,y_train)\n",
    "    y_hat=svc.predict(X_test)\n",
    "    print(f'Model accuracy score with linear kernal and C={i}: {accuracy_score(y_test, y_hat)}')"
   ]
  },
  {
   "cell_type": "markdown",
   "id": "12bd6d25",
   "metadata": {},
   "source": [
    "# Checking overfitting and underfitting"
   ]
  },
  {
   "cell_type": "code",
   "execution_count": 56,
   "id": "07e902c3",
   "metadata": {},
   "outputs": [
    {
     "name": "stdout",
     "output_type": "stream",
     "text": [
      "Model score with linear kernal and C=1.0 on training data : 0.9566280206732783\n",
      "Model score with linear kernal and C=1.0 on testing data : 0.9536312849162011\n",
      "Model score with linear kernal and C=100.0 on training data : 0.9566280206732783\n",
      "Model score with linear kernal and C=100.0 on testing data : 0.9536312849162011\n"
     ]
    }
   ],
   "source": [
    "C=[1.0,100.0]\n",
    "for i in C:\n",
    "    svc=SVC(kernel=\"linear\",C=i)\n",
    "    svc.fit(X_train,y_train)\n",
    "    y_hat=svc.predict(X_test)\n",
    "    print(f'Model score with linear kernal and C={i} on training data : {svc.score(X_train, y_train)}')\n",
    "    print(f'Model score with linear kernal and C={i} on testing data : {svc.score(X_test, y_test)}')"
   ]
  },
  {
   "cell_type": "code",
   "execution_count": 57,
   "id": "53a8ffd7",
   "metadata": {},
   "outputs": [
    {
     "data": {
      "text/plain": [
       "0.0    3345\n",
       "1.0     235\n",
       "Name: target_class, dtype: int64"
      ]
     },
     "execution_count": 57,
     "metadata": {},
     "output_type": "execute_result"
    }
   ],
   "source": [
    "y_test.value_counts()"
   ]
  },
  {
   "cell_type": "code",
   "execution_count": 58,
   "id": "c3ac8561",
   "metadata": {},
   "outputs": [
    {
     "data": {
      "text/plain": [
       "0.9343575418994413"
      ]
     },
     "execution_count": 58,
     "metadata": {},
     "output_type": "execute_result"
    }
   ],
   "source": [
    "null_acuracy=3345/(3345+235)\n",
    "null_acuracy"
   ]
  },
  {
   "cell_type": "markdown",
   "id": "88d4bebe",
   "metadata": {},
   "source": [
    "# SVM with polynomial kernel"
   ]
  },
  {
   "cell_type": "code",
   "execution_count": 59,
   "id": "2d917091",
   "metadata": {},
   "outputs": [
    {
     "name": "stdout",
     "output_type": "stream",
     "text": [
      "Model accuracy score with poly kernal and C=1.0: 0.9541899441340782\n",
      "\n",
      "Model accuracy score with poly kernal and C=100.0: 0.9561452513966481\n",
      "\n"
     ]
    }
   ],
   "source": [
    "C=[1.0,100.0]\n",
    "for i in C:\n",
    "    svc=SVC(kernel=\"poly\",C=i)\n",
    "    svc.fit(X_train,y_train)\n",
    "    y_hat=svc.predict(X_test)\n",
    "    print(f'Model accuracy score with poly kernal and C={i}: {accuracy_score(y_test, y_hat)}')\n",
    "    print()"
   ]
  },
  {
   "cell_type": "markdown",
   "id": "d69764bb",
   "metadata": {},
   "source": [
    "# SVM with sigmoid kernel"
   ]
  },
  {
   "cell_type": "code",
   "execution_count": 60,
   "id": "e7f58f90",
   "metadata": {},
   "outputs": [
    {
     "name": "stdout",
     "output_type": "stream",
     "text": [
      "Model accuracy score with sigmoid kernal and C=1.0: 0.9460893854748603\n",
      "\n",
      "Model accuracy score with sigmoid kernal and C=100.0: 0.9441340782122905\n",
      "\n"
     ]
    }
   ],
   "source": [
    "C=[1.0,100.0]\n",
    "for i in C:\n",
    "    svc=SVC(kernel=\"sigmoid\",C=i)\n",
    "    svc.fit(X_train,y_train)\n",
    "    y_hat=svc.predict(X_test)\n",
    "    print(f'Model accuracy score with sigmoid kernal and C={i}: {accuracy_score(y_test, y_hat)}')\n",
    "    print()"
   ]
  },
  {
   "cell_type": "markdown",
   "id": "0248ed9d",
   "metadata": {},
   "source": [
    "**Comments**\n",
    "\n",
    "We get maximum accuracy with `rbf` and `linear kernel` with `C=100.0`. and the accuracy is `0.9832`. Based on the above analysis we can conclude that our classification model accuracy is very good. Our model is doing a very good job in terms of predicting the class labels.\n",
    "\n",
    "But, this is not true. Here, we have an imbalanced dataset. The problem is that accuracy is an inadequate measure for quantifying predictive performance in the imbalanced dataset problem.\n",
    "\n",
    "So, we must explore alternative metrices that provide better guidance in selecting models. In particular, we would like to know the underlying distribution of values and the type of errors our classifer is making.\n",
    "\n",
    "One such metric to analyze the model performance in imbalanced classes problem is `Confusion matrix`."
   ]
  },
  {
   "cell_type": "markdown",
   "id": "e37f7bfd",
   "metadata": {},
   "source": [
    "#  Confusion matrix\n",
    "\n",
    "A confusion matrix is a tool for summarizing the performance of a classification algorithm. A confusion matrix will give us a clear picture of classification model performance and the types of errors produced by the model. It gives us a summary of correct and incorrect predictions broken down by each category. The summary is represented in a tabular form.\n",
    "\n",
    "Four types of outcomes are possible while evaluating a classification model performance. These four outcomes are described below:-\n",
    "\n",
    "**True Positives (TP)** – True Positives occur when we predict an observation belongs to a certain class and the observation actually belongs to that class.\n",
    "\n",
    "**True Negatives (TN)** – True Negatives occur when we predict an observation does not belong to a certain class and the observation actually does not belong to that class.\n",
    "\n",
    "**False Positives (FP)** – False Positives occur when we predict an observation belongs to a certain class but the observation actually does not belong to that class. This type of error is called Type I error.\n",
    "\n",
    "**False Negatives (FN)** – False Negatives occur when we predict an observation does not belong to a certain class but the observation actually belongs to that class. This is a very serious error and it is called Type II error.\n",
    "\n",
    "These four outcomes are summarized in a confusion matrix given below."
   ]
  },
  {
   "cell_type": "code",
   "execution_count": 58,
   "id": "732d5897",
   "metadata": {},
   "outputs": [
    {
     "name": "stdout",
     "output_type": "stream",
     "text": [
      "Confusion matrix\n",
      "\n",
      " [[3266   65]\n",
      " [  79  170]]\n",
      "\n",
      "True Positives(TP) =  3266\n",
      "\n",
      "True Negatives(TN) =  170\n",
      "\n",
      "False Positives(FP) =  65\n",
      "\n",
      "False Negatives(FN) =  79\n"
     ]
    }
   ],
   "source": [
    "from sklearn.metrics import confusion_matrix\n",
    "\n",
    "cm = confusion_matrix(y_hat,y_test)\n",
    "\n",
    "print('Confusion matrix\\n\\n', cm)\n",
    "\n",
    "print('\\nTrue Positives(TP) = ', cm[0,0])\n",
    "\n",
    "print('\\nTrue Negatives(TN) = ', cm[1,1])\n",
    "\n",
    "print('\\nFalse Positives(FP) = ', cm[0,1])\n",
    "\n",
    "print('\\nFalse Negatives(FN) = ', cm[1,0])"
   ]
  },
  {
   "cell_type": "code",
   "execution_count": 59,
   "id": "9792be25",
   "metadata": {},
   "outputs": [
    {
     "data": {
      "image/png": "[encoded data removed]",
      "text/plain": [
       "<Figure size 842.4x595.44 with 2 Axes>"
      ]
     },
     "metadata": {},
     "output_type": "display_data"
    }
   ],
   "source": [
    "cm=pd.DataFrame(cm)\n",
    "sns.heatmap(cm,annot=True,cmap='BuGn_r',fmt=\"d\")\n",
    "sns.set_theme(rc={'figure.figsize':(11.7,8.27)})\n",
    "plt.show()"
   ]
  },
  {
   "cell_type": "markdown",
   "id": "af792a8e",
   "metadata": {},
   "source": [
    "#  Classification metrices\n",
    "\n",
    "**Classification report** is another way to evaluate the classification model performance. It displays the **precision**, **recall**, **f1** and **support** scores for the model. I have described these terms in later."
   ]
  },
  {
   "cell_type": "code",
   "execution_count": 71,
   "id": "fc3671f0",
   "metadata": {},
   "outputs": [
    {
     "name": "stdout",
     "output_type": "stream",
     "text": [
      "              precision    recall  f1-score   support\n",
      "\n",
      "         0.0       0.97      0.97      0.97      3345\n",
      "         1.0       0.58      0.53      0.56       235\n",
      "\n",
      "    accuracy                           0.94      3580\n",
      "   macro avg       0.77      0.75      0.76      3580\n",
      "weighted avg       0.94      0.94      0.94      3580\n",
      "\n"
     ]
    }
   ],
   "source": [
    "print(classification_report(y_test,y_hat))"
   ]
  },
  {
   "cell_type": "markdown",
   "id": "06e0523f",
   "metadata": {},
   "source": [
    "**Precision**\n",
    "\n",
    "Precision can be defined as the percentage of correctly predicted positive outcomes out of all the predicted positive outcomes. It can be given as the ratio of true positives (TP) to the sum of true and false positives (TP + FP).\n",
    "\n",
    "So, `Precision` identifies the proportion of correctly predicted positive outcome. It is more concerned with the positive class than the negative class.\n",
    "\n",
    "Mathematically, precision can be defined as the ratio of `TP to (TP + FP)`.\n",
    "\n",
    "**Recall**\n",
    "\n",
    "Recall can be defined as the percentage of correctly predicted positive outcomes out of all the actual positive outcomes. It can be given as the ratio of true positives (TP) to the sum of true positives and false negatives (TP + FN). Recall is also called *Sensitivity*.\n",
    "\n",
    "Recall identifies the proportion of correctly predicted actual positives.\n",
    "\n",
    "Mathematically, recall can be defined as the ratio of `TP to (TP + FN)`.\n",
    "\n",
    "**f1-score**\n",
    "\n",
    "f1-score is the weighted harmonic mean of precision and recall. The best possible f1-score would be 1.0 and the worst would be 0.0. f1-score is the harmonic mean of precision and recall. So, f1-score is always lower than accuracy measures as they embed precision and recall into their computation. The weighted average of f1-score should be used to compare classifier models, not global accuracy."
   ]
  },
  {
   "cell_type": "markdown",
   "id": "4d05ea4e",
   "metadata": {},
   "source": [
    "#  ROC - AUC\n",
    "\n",
    "Another tool to measure the classification model performance visually is `ROC Curve`. ROC Curve stands for **Receiver Operating Characteristic Curve**. An ROC Curve is a plot which shows the performance of a classification model at various classification threshold levels.\n",
    "\n",
    "The ROC Curve plots the `True Positive Rate (TPR)` against the `False Positive Rate (FPR)` at various threshold levels.\n",
    "\n",
    "True Positive Rate (TPR) is also called Recall. It is defined as the ratio of `TP to (TP + FN)`.\n",
    "\n",
    "False Positive Rate (FPR) is defined as the ratio of `FP to (FP + TN)`.\n",
    "\n",
    "In the ROC Curve, we will focus on the TPR (True Positive Rate) and FPR (False Positive Rate) of a single point. This will give us the general performance of the ROC curve which consists of the TPR and FPR at various threshold levels. So, an ROC Curve plots TPR vs FPR at different classification threshold levels. If we lower the threshold levels, it may result in more items being classified as positve. It will increase both True Positives (TP) and False Positives (FP)."
   ]
  },
  {
   "cell_type": "code",
   "execution_count": 57,
   "id": "838bd185",
   "metadata": {},
   "outputs": [
    {
     "data": {
      "image/png": "[encoded data removed]",
      "text/plain": [
       "<Figure size 842.4x595.44 with 1 Axes>"
      ]
     },
     "metadata": {},
     "output_type": "display_data"
    }
   ],
   "source": [
    "from sklearn.metrics import roc_curve\n",
    "\n",
    "fpr, tpr, thresholds = roc_curve(y_hat,y_test)\n",
    "\n",
    "plt.plot(fpr, tpr, linewidth=2)\n",
    "\n",
    "plt.plot([0,1], [0,1], 'k--' )\n",
    "\n",
    "plt.rcParams['font.size'] = 12\n",
    "\n",
    "plt.title('ROC curve for Predicting a Pulsar Star classifier')\n",
    "\n",
    "plt.xlabel('False Positive Rate (1 - Specificity)')\n",
    "\n",
    "plt.ylabel('True Positive Rate (Sensitivity)')\n",
    "sns.set_theme(rc={'figure.figsize':(11.7,8.27)})\n",
    "\n",
    "plt.show()"
   ]
  },
  {
   "cell_type": "markdown",
   "id": "b1a62c5c",
   "metadata": {},
   "source": [
    "#### ROC AUC\n",
    "\n",
    "ROC AUC stands for **Receiver Operating Characteristic - Area Under Curve**. It is a technique to compare classifier performance. In this technique, we measure the area under the curve (AUC). A perfect classifier will have a ROC AUC equal to 1, whereas a purely random classifier will have a ROC AUC equal to 0.5.\n",
    "\n",
    "So, ROC AUC is the percentage of the ROC plot that is underneath the curve."
   ]
  },
  {
   "cell_type": "code",
   "execution_count": 74,
   "id": "dcd0a9f8",
   "metadata": {},
   "outputs": [
    {
     "name": "stdout",
     "output_type": "stream",
     "text": [
      "ROC AUC : 0.7744\n"
     ]
    }
   ],
   "source": [
    "from sklearn.metrics import roc_auc_score\n",
    "\n",
    "ROC_AUC = roc_auc_score(y_hat,y_test)\n",
    "\n",
    "print('ROC AUC : {:.4f}'.format(ROC_AUC))"
   ]
  },
  {
   "cell_type": "markdown",
   "id": "4e3e5bae",
   "metadata": {},
   "source": [
    "#  Stratified k-fold Cross Validation with shuffle split\n",
    "\n",
    "k-fold cross-validation is a very useful technique to evaluate model performance. But, it fails here because we have a imbalnced dataset. So, in the case of imbalanced dataset, I will use another technique to evaluate model performance. It is called stratified k-fold cross-validation.\n",
    "\n",
    "In stratified k-fold cross-validation, we split the data such that the proportions between classes are the same in each fold as they are in the whole dataset.\n",
    "\n",
    "Moreover, I will shuffle the data before splitting because shuffling yields much better result.\n",
    "\n",
    "**Stratified k-Fold Cross Validation with shuffle split with linear kernel**"
   ]
  },
  {
   "cell_type": "code",
   "execution_count": null,
   "id": "0b31849e",
   "metadata": {},
   "outputs": [
    {
     "name": "stdout",
     "output_type": "stream",
     "text": [
      "The cross validation roc_score with kernal linear is 0.95516489756188\n",
      "\n"
     ]
    }
   ],
   "source": [
    "from sklearn.model_selection import cross_val_score\n",
    "kernal=[\"linear\",\"poly\",\"sigmoid\"]\n",
    "for i in kernal:\n",
    "    cross_score=cross_val_score(SVC(kernel=i,C=100),X_train,y_train,cv=10,scoring=\"roc_auc\").mean()\n",
    "    print(f\"The cross validation roc_score with kernal {i} is {cross_score}\")\n",
    "    print()"
   ]
  },
  {
   "cell_type": "markdown",
   "id": "27a1ca89",
   "metadata": {},
   "source": [
    "# Hyperparameter Optimization using GridSearch CV"
   ]
  },
  {
   "cell_type": "code",
   "execution_count": 33,
   "id": "57f3bdc4",
   "metadata": {},
   "outputs": [],
   "source": [
    "from sklearn.ensemble import AdaBoostClassifier,GradientBoostingClassifier,RandomForestClassifier\n",
    "from sklearn.tree import DecisionTreeClassifier\n",
    "from sklearn.metrics import accuracy_score"
   ]
  },
  {
   "cell_type": "code",
   "execution_count": 34,
   "id": "bcf1885d",
   "metadata": {},
   "outputs": [
    {
     "data": {
      "text/plain": [
       "0.9575418994413408"
      ]
     },
     "execution_count": 34,
     "metadata": {},
     "output_type": "execute_result"
    }
   ],
   "source": [
    "dt=DecisionTreeClassifier(max_depth=8)\n",
    "dt.fit(X_train,y_train)\n",
    "y_hat=dt.predict(X_test)\n",
    "accuracy_score(y_hat,y_test)\n"
   ]
  },
  {
   "cell_type": "code",
   "execution_count": 35,
   "id": "f4c72993",
   "metadata": {},
   "outputs": [
    {
     "data": {
      "text/plain": [
       "0.9564245810055866"
      ]
     },
     "execution_count": 35,
     "metadata": {},
     "output_type": "execute_result"
    }
   ],
   "source": [
    "GD=GradientBoostingClassifier(max_depth=8)\n",
    "GD.fit(X_train,y_train)\n",
    "y_gb=GD.predict(X_test)\n",
    "accuracy_score(y_gb,y_test)"
   ]
  },
  {
   "cell_type": "code",
   "execution_count": 36,
   "id": "9c208fb6",
   "metadata": {},
   "outputs": [],
   "source": [
    "rf=RandomForestClassifier(n_estimators=1000,max_depth=10,bootstrap=True,oob_score=True,n_jobs=-1)"
   ]
  },
  {
   "cell_type": "code",
   "execution_count": 37,
   "id": "314b2b10",
   "metadata": {},
   "outputs": [
    {
     "data": {
      "text/plain": [
       "0.9597765363128492"
      ]
     },
     "execution_count": 37,
     "metadata": {},
     "output_type": "execute_result"
    }
   ],
   "source": [
    "rf.fit(X_train,y_train)\n",
    "y_rf=rf.predict(X_test)\n",
    "accuracy_score(y_rf,y_test)"
   ]
  }
 ],
 "metadata": {
  "kernelspec": {
   "display_name": "Python 3 (ipykernel)",
   "language": "python",
   "name": "python3"
  },
  "language_info": {
   "codemirror_mode": {
    "name": "ipython",
    "version": 3
   },
   "file_extension": ".py",
   "mimetype": "text/x-python",
   "name": "python",
   "nbconvert_exporter": "python",
   "pygments_lexer": "ipython3",
   "version": "3.12.3"
  }
 },
 "nbformat": 4,
 "nbformat_minor": 5
}
